{
  "nbformat": 4,
  "nbformat_minor": 0,
  "metadata": {
    "colab": {
      "provenance": [],
      "authorship_tag": "ABX9TyOZnPudxncAphjI4JItjHOL",
      "include_colab_link": true
    },
    "kernelspec": {
      "name": "python3",
      "display_name": "Python 3"
    },
    "language_info": {
      "name": "python"
    }
  },
  "cells": [
    {
      "cell_type": "markdown",
      "metadata": {
        "id": "view-in-github",
        "colab_type": "text"
      },
      "source": [
        "<a href=\"https://colab.research.google.com/github/Darshitavijay/password-stregth-prediction/blob/main/Password_Strength_Prediction_NLP.ipynb\" target=\"_parent\"><img src=\"https://colab.research.google.com/assets/colab-badge.svg\" alt=\"Open In Colab\"/></a>"
      ]
    },
    {
      "cell_type": "code",
      "source": [
        "from google.colab import drive\n",
        "drive.mount('/content/drive')"
      ],
      "metadata": {
        "colab": {
          "base_uri": "https://localhost:8080/"
        },
        "id": "IX9iAvao-TRq",
        "outputId": "f7a8f517-3ab5-48d8-d152-39e1b6c9b2b4"
      },
      "execution_count": 1,
      "outputs": [
        {
          "output_type": "stream",
          "name": "stdout",
          "text": [
            "Drive already mounted at /content/drive; to attempt to forcibly remount, call drive.mount(\"/content/drive\", force_remount=True).\n"
          ]
        }
      ]
    },
    {
      "cell_type": "code",
      "source": [
        "import pandas as pd\n",
        "import numpy as np\n",
        "import seaborn as sns\n",
        "import matplotlib.pyplot as plt\n",
        "import warnings\n",
        "warnings.filterwarnings('ignore')"
      ],
      "metadata": {
        "id": "giGCyXWR-VAj"
      },
      "execution_count": 2,
      "outputs": []
    },
    {
      "cell_type": "code",
      "source": [
        "data=pd.read_csv('/content/drive/MyDrive/Data Science Real world projects Course /Password strength prediction/data.csv',on_bad_lines='skip')\n",
        "data.head(6)"
      ],
      "metadata": {
        "colab": {
          "base_uri": "https://localhost:8080/",
          "height": 237
        },
        "id": "ctB9dYvJ-nvL",
        "outputId": "f6da19ba-9d52-4999-c2e9-61c4ea7b6ede"
      },
      "execution_count": 3,
      "outputs": [
        {
          "output_type": "execute_result",
          "data": {
            "text/plain": [
              "           password  strength\n",
              "0          kzde5577         1\n",
              "1          kino3434         1\n",
              "2         visi7k1yr         1\n",
              "3          megzy123         1\n",
              "4       lamborghin1         1\n",
              "5  AVYq1lDE4MgAZfNt         2"
            ],
            "text/html": [
              "\n",
              "  <div id=\"df-76d56e2a-2166-4ad2-a749-b8b53fc7031d\">\n",
              "    <div class=\"colab-df-container\">\n",
              "      <div>\n",
              "<style scoped>\n",
              "    .dataframe tbody tr th:only-of-type {\n",
              "        vertical-align: middle;\n",
              "    }\n",
              "\n",
              "    .dataframe tbody tr th {\n",
              "        vertical-align: top;\n",
              "    }\n",
              "\n",
              "    .dataframe thead th {\n",
              "        text-align: right;\n",
              "    }\n",
              "</style>\n",
              "<table border=\"1\" class=\"dataframe\">\n",
              "  <thead>\n",
              "    <tr style=\"text-align: right;\">\n",
              "      <th></th>\n",
              "      <th>password</th>\n",
              "      <th>strength</th>\n",
              "    </tr>\n",
              "  </thead>\n",
              "  <tbody>\n",
              "    <tr>\n",
              "      <th>0</th>\n",
              "      <td>kzde5577</td>\n",
              "      <td>1</td>\n",
              "    </tr>\n",
              "    <tr>\n",
              "      <th>1</th>\n",
              "      <td>kino3434</td>\n",
              "      <td>1</td>\n",
              "    </tr>\n",
              "    <tr>\n",
              "      <th>2</th>\n",
              "      <td>visi7k1yr</td>\n",
              "      <td>1</td>\n",
              "    </tr>\n",
              "    <tr>\n",
              "      <th>3</th>\n",
              "      <td>megzy123</td>\n",
              "      <td>1</td>\n",
              "    </tr>\n",
              "    <tr>\n",
              "      <th>4</th>\n",
              "      <td>lamborghin1</td>\n",
              "      <td>1</td>\n",
              "    </tr>\n",
              "    <tr>\n",
              "      <th>5</th>\n",
              "      <td>AVYq1lDE4MgAZfNt</td>\n",
              "      <td>2</td>\n",
              "    </tr>\n",
              "  </tbody>\n",
              "</table>\n",
              "</div>\n",
              "      <button class=\"colab-df-convert\" onclick=\"convertToInteractive('df-76d56e2a-2166-4ad2-a749-b8b53fc7031d')\"\n",
              "              title=\"Convert this dataframe to an interactive table.\"\n",
              "              style=\"display:none;\">\n",
              "        \n",
              "  <svg xmlns=\"http://www.w3.org/2000/svg\" height=\"24px\"viewBox=\"0 0 24 24\"\n",
              "       width=\"24px\">\n",
              "    <path d=\"M0 0h24v24H0V0z\" fill=\"none\"/>\n",
              "    <path d=\"M18.56 5.44l.94 2.06.94-2.06 2.06-.94-2.06-.94-.94-2.06-.94 2.06-2.06.94zm-11 1L8.5 8.5l.94-2.06 2.06-.94-2.06-.94L8.5 2.5l-.94 2.06-2.06.94zm10 10l.94 2.06.94-2.06 2.06-.94-2.06-.94-.94-2.06-.94 2.06-2.06.94z\"/><path d=\"M17.41 7.96l-1.37-1.37c-.4-.4-.92-.59-1.43-.59-.52 0-1.04.2-1.43.59L10.3 9.45l-7.72 7.72c-.78.78-.78 2.05 0 2.83L4 21.41c.39.39.9.59 1.41.59.51 0 1.02-.2 1.41-.59l7.78-7.78 2.81-2.81c.8-.78.8-2.07 0-2.86zM5.41 20L4 18.59l7.72-7.72 1.47 1.35L5.41 20z\"/>\n",
              "  </svg>\n",
              "      </button>\n",
              "      \n",
              "  <style>\n",
              "    .colab-df-container {\n",
              "      display:flex;\n",
              "      flex-wrap:wrap;\n",
              "      gap: 12px;\n",
              "    }\n",
              "\n",
              "    .colab-df-convert {\n",
              "      background-color: #E8F0FE;\n",
              "      border: none;\n",
              "      border-radius: 50%;\n",
              "      cursor: pointer;\n",
              "      display: none;\n",
              "      fill: #1967D2;\n",
              "      height: 32px;\n",
              "      padding: 0 0 0 0;\n",
              "      width: 32px;\n",
              "    }\n",
              "\n",
              "    .colab-df-convert:hover {\n",
              "      background-color: #E2EBFA;\n",
              "      box-shadow: 0px 1px 2px rgba(60, 64, 67, 0.3), 0px 1px 3px 1px rgba(60, 64, 67, 0.15);\n",
              "      fill: #174EA6;\n",
              "    }\n",
              "\n",
              "    [theme=dark] .colab-df-convert {\n",
              "      background-color: #3B4455;\n",
              "      fill: #D2E3FC;\n",
              "    }\n",
              "\n",
              "    [theme=dark] .colab-df-convert:hover {\n",
              "      background-color: #434B5C;\n",
              "      box-shadow: 0px 1px 3px 1px rgba(0, 0, 0, 0.15);\n",
              "      filter: drop-shadow(0px 1px 2px rgba(0, 0, 0, 0.3));\n",
              "      fill: #FFFFFF;\n",
              "    }\n",
              "  </style>\n",
              "\n",
              "      <script>\n",
              "        const buttonEl =\n",
              "          document.querySelector('#df-76d56e2a-2166-4ad2-a749-b8b53fc7031d button.colab-df-convert');\n",
              "        buttonEl.style.display =\n",
              "          google.colab.kernel.accessAllowed ? 'block' : 'none';\n",
              "\n",
              "        async function convertToInteractive(key) {\n",
              "          const element = document.querySelector('#df-76d56e2a-2166-4ad2-a749-b8b53fc7031d');\n",
              "          const dataTable =\n",
              "            await google.colab.kernel.invokeFunction('convertToInteractive',\n",
              "                                                     [key], {});\n",
              "          if (!dataTable) return;\n",
              "\n",
              "          const docLinkHtml = 'Like what you see? Visit the ' +\n",
              "            '<a target=\"_blank\" href=https://colab.research.google.com/notebooks/data_table.ipynb>data table notebook</a>'\n",
              "            + ' to learn more about interactive tables.';\n",
              "          element.innerHTML = '';\n",
              "          dataTable['output_type'] = 'display_data';\n",
              "          await google.colab.output.renderOutput(dataTable, element);\n",
              "          const docLink = document.createElement('div');\n",
              "          docLink.innerHTML = docLinkHtml;\n",
              "          element.appendChild(docLink);\n",
              "        }\n",
              "      </script>\n",
              "    </div>\n",
              "  </div>\n",
              "  "
            ]
          },
          "metadata": {},
          "execution_count": 3
        }
      ]
    },
    {
      "cell_type": "code",
      "source": [
        "data['strength'].unique()"
      ],
      "metadata": {
        "colab": {
          "base_uri": "https://localhost:8080/"
        },
        "id": "YwpolStR-6oU",
        "outputId": "7a31e424-0764-4d79-8eba-dee2946a6d05"
      },
      "execution_count": 4,
      "outputs": [
        {
          "output_type": "execute_result",
          "data": {
            "text/plain": [
              "array([1, 2, 0])"
            ]
          },
          "metadata": {},
          "execution_count": 4
        }
      ]
    },
    {
      "cell_type": "code",
      "source": [
        "data.isnull().sum()"
      ],
      "metadata": {
        "colab": {
          "base_uri": "https://localhost:8080/"
        },
        "id": "eQn7QD5M_hJK",
        "outputId": "b1ea2837-f781-4fc2-9f78-17e535b82ed8"
      },
      "execution_count": 5,
      "outputs": [
        {
          "output_type": "execute_result",
          "data": {
            "text/plain": [
              "password    1\n",
              "strength    0\n",
              "dtype: int64"
            ]
          },
          "metadata": {},
          "execution_count": 5
        }
      ]
    },
    {
      "cell_type": "code",
      "source": [
        "#to see in what place we have the null value is \n",
        "data[data['password'].isnull()]"
      ],
      "metadata": {
        "colab": {
          "base_uri": "https://localhost:8080/",
          "height": 81
        },
        "id": "LKx8nngz_pTb",
        "outputId": "572269b0-ed7f-4216-99d0-bea12c073a6f"
      },
      "execution_count": 6,
      "outputs": [
        {
          "output_type": "execute_result",
          "data": {
            "text/plain": [
              "       password  strength\n",
              "367579      NaN         0"
            ],
            "text/html": [
              "\n",
              "  <div id=\"df-effdb259-07f2-4e57-a4f7-772ab227ae50\">\n",
              "    <div class=\"colab-df-container\">\n",
              "      <div>\n",
              "<style scoped>\n",
              "    .dataframe tbody tr th:only-of-type {\n",
              "        vertical-align: middle;\n",
              "    }\n",
              "\n",
              "    .dataframe tbody tr th {\n",
              "        vertical-align: top;\n",
              "    }\n",
              "\n",
              "    .dataframe thead th {\n",
              "        text-align: right;\n",
              "    }\n",
              "</style>\n",
              "<table border=\"1\" class=\"dataframe\">\n",
              "  <thead>\n",
              "    <tr style=\"text-align: right;\">\n",
              "      <th></th>\n",
              "      <th>password</th>\n",
              "      <th>strength</th>\n",
              "    </tr>\n",
              "  </thead>\n",
              "  <tbody>\n",
              "    <tr>\n",
              "      <th>367579</th>\n",
              "      <td>NaN</td>\n",
              "      <td>0</td>\n",
              "    </tr>\n",
              "  </tbody>\n",
              "</table>\n",
              "</div>\n",
              "      <button class=\"colab-df-convert\" onclick=\"convertToInteractive('df-effdb259-07f2-4e57-a4f7-772ab227ae50')\"\n",
              "              title=\"Convert this dataframe to an interactive table.\"\n",
              "              style=\"display:none;\">\n",
              "        \n",
              "  <svg xmlns=\"http://www.w3.org/2000/svg\" height=\"24px\"viewBox=\"0 0 24 24\"\n",
              "       width=\"24px\">\n",
              "    <path d=\"M0 0h24v24H0V0z\" fill=\"none\"/>\n",
              "    <path d=\"M18.56 5.44l.94 2.06.94-2.06 2.06-.94-2.06-.94-.94-2.06-.94 2.06-2.06.94zm-11 1L8.5 8.5l.94-2.06 2.06-.94-2.06-.94L8.5 2.5l-.94 2.06-2.06.94zm10 10l.94 2.06.94-2.06 2.06-.94-2.06-.94-.94-2.06-.94 2.06-2.06.94z\"/><path d=\"M17.41 7.96l-1.37-1.37c-.4-.4-.92-.59-1.43-.59-.52 0-1.04.2-1.43.59L10.3 9.45l-7.72 7.72c-.78.78-.78 2.05 0 2.83L4 21.41c.39.39.9.59 1.41.59.51 0 1.02-.2 1.41-.59l7.78-7.78 2.81-2.81c.8-.78.8-2.07 0-2.86zM5.41 20L4 18.59l7.72-7.72 1.47 1.35L5.41 20z\"/>\n",
              "  </svg>\n",
              "      </button>\n",
              "      \n",
              "  <style>\n",
              "    .colab-df-container {\n",
              "      display:flex;\n",
              "      flex-wrap:wrap;\n",
              "      gap: 12px;\n",
              "    }\n",
              "\n",
              "    .colab-df-convert {\n",
              "      background-color: #E8F0FE;\n",
              "      border: none;\n",
              "      border-radius: 50%;\n",
              "      cursor: pointer;\n",
              "      display: none;\n",
              "      fill: #1967D2;\n",
              "      height: 32px;\n",
              "      padding: 0 0 0 0;\n",
              "      width: 32px;\n",
              "    }\n",
              "\n",
              "    .colab-df-convert:hover {\n",
              "      background-color: #E2EBFA;\n",
              "      box-shadow: 0px 1px 2px rgba(60, 64, 67, 0.3), 0px 1px 3px 1px rgba(60, 64, 67, 0.15);\n",
              "      fill: #174EA6;\n",
              "    }\n",
              "\n",
              "    [theme=dark] .colab-df-convert {\n",
              "      background-color: #3B4455;\n",
              "      fill: #D2E3FC;\n",
              "    }\n",
              "\n",
              "    [theme=dark] .colab-df-convert:hover {\n",
              "      background-color: #434B5C;\n",
              "      box-shadow: 0px 1px 3px 1px rgba(0, 0, 0, 0.15);\n",
              "      filter: drop-shadow(0px 1px 2px rgba(0, 0, 0, 0.3));\n",
              "      fill: #FFFFFF;\n",
              "    }\n",
              "  </style>\n",
              "\n",
              "      <script>\n",
              "        const buttonEl =\n",
              "          document.querySelector('#df-effdb259-07f2-4e57-a4f7-772ab227ae50 button.colab-df-convert');\n",
              "        buttonEl.style.display =\n",
              "          google.colab.kernel.accessAllowed ? 'block' : 'none';\n",
              "\n",
              "        async function convertToInteractive(key) {\n",
              "          const element = document.querySelector('#df-effdb259-07f2-4e57-a4f7-772ab227ae50');\n",
              "          const dataTable =\n",
              "            await google.colab.kernel.invokeFunction('convertToInteractive',\n",
              "                                                     [key], {});\n",
              "          if (!dataTable) return;\n",
              "\n",
              "          const docLinkHtml = 'Like what you see? Visit the ' +\n",
              "            '<a target=\"_blank\" href=https://colab.research.google.com/notebooks/data_table.ipynb>data table notebook</a>'\n",
              "            + ' to learn more about interactive tables.';\n",
              "          element.innerHTML = '';\n",
              "          dataTable['output_type'] = 'display_data';\n",
              "          await google.colab.output.renderOutput(dataTable, element);\n",
              "          const docLink = document.createElement('div');\n",
              "          docLink.innerHTML = docLinkHtml;\n",
              "          element.appendChild(docLink);\n",
              "        }\n",
              "      </script>\n",
              "    </div>\n",
              "  </div>\n",
              "  "
            ]
          },
          "metadata": {},
          "execution_count": 6
        }
      ]
    },
    {
      "cell_type": "code",
      "source": [
        "data.dropna(inplace=True)"
      ],
      "metadata": {
        "id": "3Za5e2hV_s3U"
      },
      "execution_count": 7,
      "outputs": []
    },
    {
      "cell_type": "code",
      "source": [
        "data.isnull().sum()"
      ],
      "metadata": {
        "colab": {
          "base_uri": "https://localhost:8080/"
        },
        "id": "PFd2zO8Z_8FT",
        "outputId": "8903c8db-f0b5-4ed3-e55c-da5698b4dcec"
      },
      "execution_count": 8,
      "outputs": [
        {
          "output_type": "execute_result",
          "data": {
            "text/plain": [
              "password    0\n",
              "strength    0\n",
              "dtype: int64"
            ]
          },
          "metadata": {},
          "execution_count": 8
        }
      ]
    },
    {
      "cell_type": "code",
      "source": [
        "data['strength'].unique()"
      ],
      "metadata": {
        "colab": {
          "base_uri": "https://localhost:8080/"
        },
        "id": "EyNaTqRhAWPx",
        "outputId": "706b68b7-2bf6-494b-82db-b28b751e19b4"
      },
      "execution_count": 9,
      "outputs": [
        {
          "output_type": "execute_result",
          "data": {
            "text/plain": [
              "array([1, 2, 0])"
            ]
          },
          "metadata": {},
          "execution_count": 9
        }
      ]
    },
    {
      "cell_type": "code",
      "source": [
        "sns.countplot(data['strength'])"
      ],
      "metadata": {
        "colab": {
          "base_uri": "https://localhost:8080/",
          "height": 285
        },
        "id": "6FukgL1b_-dD",
        "outputId": "1d3b807c-931c-4606-9817-35d824add598"
      },
      "execution_count": 10,
      "outputs": [
        {
          "output_type": "execute_result",
          "data": {
            "text/plain": [
              "<Axes: ylabel='count'>"
            ]
          },
          "metadata": {},
          "execution_count": 10
        },
        {
          "output_type": "display_data",
          "data": {
            "text/plain": [
              "<Figure size 432x288 with 1 Axes>"
            ],
            "image/png": "[encoded data removed]"
          },
          "metadata": {
            "needs_background": "light"
          }
        }
      ]
    },
    {
      "cell_type": "code",
      "source": [
        "password_tuple=np.array(data)"
      ],
      "metadata": {
        "id": "6Yx1Ta8tAJUF"
      },
      "execution_count": 11,
      "outputs": []
    },
    {
      "cell_type": "code",
      "source": [
        "password_tuple"
      ],
      "metadata": {
        "colab": {
          "base_uri": "https://localhost:8080/"
        },
        "id": "z1nlwMMDAwDu",
        "outputId": "5a4efacd-428b-43d7-a451-57d27d5a54a4"
      },
      "execution_count": 12,
      "outputs": [
        {
          "output_type": "execute_result",
          "data": {
            "text/plain": [
              "array([['kzde5577', 1],\n",
              "       ['kino3434', 1],\n",
              "       ['visi7k1yr', 1],\n",
              "       ...,\n",
              "       ['184520socram', 1],\n",
              "       ['marken22a', 1],\n",
              "       ['fxx4pw4g', 1]], dtype=object)"
            ]
          },
          "metadata": {},
          "execution_count": 12
        }
      ]
    },
    {
      "cell_type": "code",
      "source": [
        "import random\n",
        "random.shuffle(password_tuple)"
      ],
      "metadata": {
        "id": "gjGtszy4AzRE"
      },
      "execution_count": 13,
      "outputs": []
    },
    {
      "cell_type": "code",
      "source": [
        "x=[labels[0] for labels in password_tuple]\n",
        "y=[labels[1] for labels in password_tuple]"
      ],
      "metadata": {
        "id": "HYwjDiy-A8jF"
      },
      "execution_count": 14,
      "outputs": []
    },
    {
      "cell_type": "code",
      "source": [
        "x"
      ],
      "metadata": {
        "colab": {
          "base_uri": "https://localhost:8080/"
        },
        "id": "Bqarhj6KBNEX",
        "outputId": "bcc8d0dc-03ec-45e2-fa71-86544b2d38a5"
      },
      "execution_count": 15,
      "outputs": [
        {
          "output_type": "execute_result",
          "data": {
            "text/plain": [
              "['kzde5577',\n",
              " 'kino3434',\n",
              " 'kzde5577',\n",
              " 'kino3434',\n",
              " 'lamborghin1',\n",
              " 'kino3434',\n",
              " 'megzy123',\n",
              " 'kzde5577',\n",
              " 'u6c8vhow',\n",
              " 'kzde5577',\n",
              " 'as326159',\n",
              " 'asv5o9yu',\n",
              " 'AVYq1lDE4MgAZfNt',\n",
              " '612035180tok',\n",
              " '612035180tok',\n",
              " 'WUt9IZzE0OQ7PkNE',\n",
              " 'jerusalem393',\n",
              " '612035180tok',\n",
              " 'WUt9IZzE0OQ7PkNE',\n",
              " 'idofo673',\n",
              " 'lamborghin1',\n",
              " 'jytifok873',\n",
              " 'kzde5577',\n",
              " 'u6c8vhow',\n",
              " '6975038lp',\n",
              " 'u6c8vhow',\n",
              " 'kzde5577',\n",
              " 'sbl571017',\n",
              " '52558000aaa',\n",
              " 'intel1',\n",
              " '612035180tok',\n",
              " 'g067057895',\n",
              " 'trabajonet9',\n",
              " 'lamborghin1',\n",
              " 'g067057895',\n",
              " 'czuodhj972',\n",
              " 'trabajonet9',\n",
              " 'fahad123',\n",
              " 'jytifok873',\n",
              " 'universe2908',\n",
              " 'faranumar91',\n",
              " 'jerusalem393',\n",
              " 'g067057895',\n",
              " 'go7kew7a2po',\n",
              " 'asgaliu11',\n",
              " 'u6c8vhow',\n",
              " 'kino3434',\n",
              " 'fahad123',\n",
              " 'v1118714',\n",
              " 'trabajonet9',\n",
              " 'universe2908',\n",
              " 'czuodhj972',\n",
              " 'memjan123',\n",
              " 'sbl571017',\n",
              " 'jytifok873',\n",
              " 'schalke04',\n",
              " 'g067057895',\n",
              " 'gaymaids1',\n",
              " 'czuodhj972',\n",
              " 'u6c8vhow',\n",
              " 'gaymaids1',\n",
              " 'bozoxik602',\n",
              " 'c3h8bkzr',\n",
              " 'b4NbTxDEyNgG141J',\n",
              " '0169395484a',\n",
              " 'kswa2mrv',\n",
              " 'khmer100.03278&?><Mnb',\n",
              " 'WUt9IZzE0OQ7PkNE',\n",
              " 'exitos2009',\n",
              " 'asgaliu11',\n",
              " '52558000aaa',\n",
              " 'sbl571017',\n",
              " 'u6c8vhow',\n",
              " 'asv5o9yu',\n",
              " 'gaymaids1',\n",
              " 'openup12',\n",
              " 'yk530mg8',\n",
              " 'juliana19',\n",
              " 'gdfn76',\n",
              " 'kunyukbabi69',\n",
              " 'snolyuj04',\n",
              " 'go7kew7a2po',\n",
              " 'as326159',\n",
              " 'cesarmaio1',\n",
              " 'AVYq1lDE4MgAZfNt',\n",
              " 'a2531106',\n",
              " 'openup12',\n",
              " 'matiofox08',\n",
              " 'snolyuj04',\n",
              " '12345yolanda',\n",
              " 'lsdlsd1',\n",
              " 'd04m11',\n",
              " 'ejeko677',\n",
              " 'memjan123',\n",
              " 'fahad123',\n",
              " 'fk9qi21m',\n",
              " 'gdfn76',\n",
              " 'b4NbTxDEyNgG141J',\n",
              " 'schalke04',\n",
              " 'mickael12',\n",
              " 'woon12',\n",
              " 'ejeko677',\n",
              " 'as326159',\n",
              " '929865yt',\n",
              " 'juliel009',\n",
              " 'megzy123',\n",
              " 'v1118714',\n",
              " 'snolyuj04',\n",
              " 'jonothepoop1',\n",
              " 'hayhayq2',\n",
              " 'as326159',\n",
              " 'calcifer32',\n",
              " 'gkrqjs6',\n",
              " 'bozoxik602',\n",
              " 'yllime123',\n",
              " 'yitbos77',\n",
              " 'a2531106',\n",
              " 'olmaz.',\n",
              " 'klara-tershina3H',\n",
              " 'k9b8cz6aj2',\n",
              " 'sbl571017',\n",
              " 'moken7',\n",
              " 'v1118714',\n",
              " 'khmer100.03278&?><Mnb',\n",
              " 'olmaz.',\n",
              " '123maxbala',\n",
              " '283671gus',\n",
              " '746xitEGiqObog',\n",
              " '746xitEGiqObog',\n",
              " '6tequila6',\n",
              " 'jUV4dSDQwNwPpA36',\n",
              " 'z3ro1sm',\n",
              " 'znbl5tj1',\n",
              " 'oekojWyH120063',\n",
              " 'universe2908',\n",
              " 'lamborghin1',\n",
              " 's4m2dx9e6',\n",
              " 'pikey231',\n",
              " 'TyWM72UNEex8Q8Y',\n",
              " 'k9b8cz6aj2',\n",
              " 'megzy123',\n",
              " 'WUt9IZzE0OQ7PkNE',\n",
              " 'kunyukbabi69',\n",
              " 'g067057895',\n",
              " 'sbl571017',\n",
              " 'fnmsdha476',\n",
              " 'ga98SIzk0NwhiZaE',\n",
              " 'a2531106',\n",
              " 'woon12',\n",
              " 'jalal123456',\n",
              " 'schalke04',\n",
              " 'hpqkoxsn5',\n",
              " 'ldteugao6',\n",
              " 'oekojWyH120063',\n",
              " 'nicolas05',\n",
              " 's9830950044',\n",
              " 'hodygid757',\n",
              " '6975038lp',\n",
              " 'schalke04',\n",
              " '5gzj5uf',\n",
              " '746xitEGiqObog',\n",
              " 'icap12',\n",
              " 'obstacle25',\n",
              " 'barra23',\n",
              " 'trabajonet9',\n",
              " '2fakjv',\n",
              " '929865yt',\n",
              " 'b4NbTxDEyNgG141J',\n",
              " 'sanki1',\n",
              " '52558000aaa',\n",
              " 'kjkjkj1',\n",
              " 'bgrvl80',\n",
              " '2yz4ewwg',\n",
              " 'mohantra1',\n",
              " 'jalal123456',\n",
              " 'xyws951753',\n",
              " '2fakjv',\n",
              " 'ikanez886',\n",
              " '52558000aaa',\n",
              " 'elonex24',\n",
              " 'intel1',\n",
              " 'yk530mg8',\n",
              " 'IjUcOtYqAwel725',\n",
              " 'IjUcOtYqAwel725',\n",
              " 'czuodhj972',\n",
              " 'klara-tershina3H',\n",
              " 'aquhih220',\n",
              " 'schalke04',\n",
              " 'RqsuUsDYxNgr8T40',\n",
              " 'IjUcOtYqAwel725',\n",
              " 'jerusalem393',\n",
              " 'g067057895',\n",
              " '838188linh',\n",
              " 'trabajonet9',\n",
              " 'z7zbgIDkzMQeHUd9',\n",
              " 'nicolas05',\n",
              " 'afs34214',\n",
              " 'yu4cmn',\n",
              " 's4m2dx9e6',\n",
              " 'go7kew7a2po',\n",
              " 'obstacle25',\n",
              " 'nello11',\n",
              " 'kino3434',\n",
              " 'pato221182',\n",
              " 's9830950044',\n",
              " 'jonothepoop1',\n",
              " 'snolyuj04',\n",
              " 'p2share',\n",
              " 'tamanagung6',\n",
              " '6tequila6',\n",
              " 'yitbos77',\n",
              " '2010server',\n",
              " 'bozoxik602',\n",
              " 'lsdlsd1',\n",
              " '2021848709.',\n",
              " 'klara-tershina3H',\n",
              " 'TyWM72UNEex8Q8Y',\n",
              " 'TyWM72UNEex8Q8Y',\n",
              " '123maxbala',\n",
              " 'ga98SIzk0NwhiZaE',\n",
              " 'kinga22',\n",
              " 'portales1',\n",
              " '612035180tok',\n",
              " 'icap12',\n",
              " 'peluchin4',\n",
              " '123net123',\n",
              " 'q0pv0fk',\n",
              " 'tamanagung6',\n",
              " 'bozoxik602',\n",
              " '929865yt',\n",
              " 'edcmki90',\n",
              " 'z3ro1sm',\n",
              " 'okn9zp9o',\n",
              " 'u6c8vhow',\n",
              " '6tequila6',\n",
              " '0169395484a',\n",
              " 'wibi182d',\n",
              " 'yut0838828185',\n",
              " 'vgnfs495vp',\n",
              " '123maxbala',\n",
              " 'sknq7m0',\n",
              " 'planes123',\n",
              " '2akira2',\n",
              " 'gkrqjs6',\n",
              " 'oekojWyH120063',\n",
              " 'ginger972',\n",
              " 'igejasy712',\n",
              " 'igejasy712',\n",
              " 'WUt9IZzE0OQ7PkNE',\n",
              " 'patri1973',\n",
              " 'k1k2k3k4k5k6',\n",
              " 'g067057895',\n",
              " 'meopvywk628',\n",
              " 'aquhih220',\n",
              " 'okn9zp9o',\n",
              " 'frhnsvelhfr1',\n",
              " 'go7kew7a2po',\n",
              " 'idofo673',\n",
              " 'hodygid757',\n",
              " 'colorado27',\n",
              " 'pikey231',\n",
              " 'jUV4dSDQwNwPpA36',\n",
              " 'yk530mg8',\n",
              " 'denise18',\n",
              " '746xitEGiqObog',\n",
              " 'wisal1234',\n",
              " 'virush1n1',\n",
              " 'warriors08',\n",
              " '215466kenyi',\n",
              " 'yllime123',\n",
              " 'wisal1234',\n",
              " 'bugatti01',\n",
              " 'gtlek',\n",
              " 'bellsuki1',\n",
              " 'pikey231',\n",
              " 'colorado27',\n",
              " 'tahseen75',\n",
              " '6tequila6',\n",
              " 'finisterra1',\n",
              " 'patri1973',\n",
              " 'ram@!sita15392',\n",
              " 'change201',\n",
              " 'RPFUOUDQwMwVW0AS',\n",
              " 'mickael12',\n",
              " 'elonex24',\n",
              " 'jUV4dSDQwNwPpA36',\n",
              " 'woon12',\n",
              " 'vgnfs495vp',\n",
              " 'x8512514',\n",
              " '838188linh',\n",
              " 'omakiva153',\n",
              " 'isqizkg1',\n",
              " 'colorado27',\n",
              " 'sbl571017',\n",
              " 'a2531106',\n",
              " 'hisnipes1',\n",
              " 'hosna1368',\n",
              " 'moken7',\n",
              " 'finisterra1',\n",
              " 'w9209640',\n",
              " 'ldteugao6',\n",
              " 'ubojig109',\n",
              " 'bgrvl80',\n",
              " 'kry1z9',\n",
              " 'v10rica',\n",
              " 'koabcswzt3',\n",
              " 'wycinu436',\n",
              " 'obstacle25',\n",
              " 'koabcswzt3',\n",
              " 'ikanez886',\n",
              " 'pikey231',\n",
              " 'kjkjkj1',\n",
              " 'hodygid757',\n",
              " 'sbaUsoTA1OAzuevI',\n",
              " 'z3ro1sm',\n",
              " 'jonothepoop1',\n",
              " '33kanun03',\n",
              " 'XqMB7vDMzOQocAFV',\n",
              " 'hasan18',\n",
              " 'alimagik1',\n",
              " 'ok>bdk',\n",
              " 'olmaz.',\n",
              " 'memjan123',\n",
              " 'obstacle25',\n",
              " 'gkrqjs6',\n",
              " 'kP82iqDMxNgBMxBP',\n",
              " 'www32223222',\n",
              " 'autan88',\n",
              " 'AVYq1lDE4MgAZfNt',\n",
              " 'aosmaxd0',\n",
              " 'portales1',\n",
              " 'uxyloga692',\n",
              " 'kswa2mrv',\n",
              " '2021848709.',\n",
              " 'www32223222',\n",
              " 'bencike7',\n",
              " 'fahad123',\n",
              " 'pikey231',\n",
              " 'meriton23',\n",
              " 'yuri110995',\n",
              " 'afavin964',\n",
              " 'kswa2mrv',\n",
              " 'fnmsdha476',\n",
              " 'mazdarx7',\n",
              " 'v10rica',\n",
              " 'kino3434',\n",
              " 'ekufite742',\n",
              " '0870330135a',\n",
              " 'autan88',\n",
              " 'shotiko18',\n",
              " 'virush1n1',\n",
              " 'p@sslng2diword',\n",
              " 'u6c8vhow',\n",
              " 'kitty555',\n",
              " 'atigi839',\n",
              " 's9830950044',\n",
              " 'yy4129',\n",
              " 'fk9qi21m',\n",
              " 'matiofox08',\n",
              " '7942vikas',\n",
              " 'change201',\n",
              " 'aslpls2009',\n",
              " 'hosna1368',\n",
              " 'sebo82',\n",
              " 'TyWM72UNEex8Q8Y',\n",
              " 'tomas7896',\n",
              " 'krishna2',\n",
              " 'peluchin4',\n",
              " 'fk9qi21m',\n",
              " 'gill02',\n",
              " 'kswa2mrv',\n",
              " 'a110804032',\n",
              " '3y6iwef2g6',\n",
              " '0870330135a',\n",
              " 'bugatti01',\n",
              " 'wibi182d',\n",
              " 'elyass15@ajilent-ci',\n",
              " 'fnmsdha476',\n",
              " 'iwaguh884',\n",
              " 'zidadoh258',\n",
              " 'metopelo1623',\n",
              " 'jEzZXUTE3MgJ4fVk',\n",
              " '612035180tok',\n",
              " 'bang6k',\n",
              " 'gvczfel801',\n",
              " 'idofo673',\n",
              " 'desmondkok21',\n",
              " '12345yolanda',\n",
              " 'colorado27',\n",
              " 'xanyrum650',\n",
              " 'WUt9IZzE0OQ7PkNE',\n",
              " '123477889a',\n",
              " 'potatobus150',\n",
              " 'v10rica',\n",
              " 'patty94',\n",
              " 'GGmm26120904..',\n",
              " 'vietnga92',\n",
              " 'visi7k1yr',\n",
              " 'obstacle25',\n",
              " 'gvczfel801',\n",
              " 'wycinu436',\n",
              " 'fahad123',\n",
              " 'isqizkg1',\n",
              " 'lamborghin1',\n",
              " '2GnTStTE4Mw4MTwv',\n",
              " 'znbl5tj1',\n",
              " 'patty94',\n",
              " 'xW8-3w7-MFB-CKH',\n",
              " '159951josh',\n",
              " 'AVYq1lDE4MgAZfNt',\n",
              " 'desmondkok21',\n",
              " 'lymuvop730',\n",
              " 'qefoquf1uf',\n",
              " 'kP82iqDMxNgBMxBP',\n",
              " 'DTUQG5jU5MwmR1L9',\n",
              " 'seng987321',\n",
              " 'kitty555',\n",
              " 'j09000',\n",
              " 'gkrqjs6',\n",
              " 'alchimie79',\n",
              " 'u6c8vhow',\n",
              " 'a110804032',\n",
              " 'oatcake87',\n",
              " 'ok>bdk',\n",
              " 'wisal1234',\n",
              " 'zoobike04',\n",
              " 'yllime123',\n",
              " 'oekojWyH120063',\n",
              " 'ubojig109',\n",
              " 'rLLh4WDQ2OAWbDO5',\n",
              " 'IRZA98',\n",
              " '7942vikas',\n",
              " 'khaled12',\n",
              " 'asv5o9yu',\n",
              " 'sknq7m0',\n",
              " 'finisterra1',\n",
              " 's0xwym7h',\n",
              " 'czuodhj972',\n",
              " 'asv5o9yu',\n",
              " 'mohantra1',\n",
              " 'colorado27',\n",
              " 'djngeyut2707',\n",
              " 'ns2b0727',\n",
              " 'bang6k',\n",
              " 'TyWM72UNEex8Q8Y',\n",
              " '6yy6yy',\n",
              " '1katertje',\n",
              " 'kikeq102',\n",
              " 'studenko123',\n",
              " 'atigi839',\n",
              " '123net123',\n",
              " '16731673ir',\n",
              " 'qefoquf1uf',\n",
              " 'patty94',\n",
              " 'aslanmarco007',\n",
              " 'mike09',\n",
              " 'cigicigi123',\n",
              " 'gaymaids1',\n",
              " 'kayal123',\n",
              " '838188linh',\n",
              " 'q0pv0fk',\n",
              " '12345yolanda',\n",
              " 'portales1',\n",
              " 'ok>bdk',\n",
              " 'yuri110995',\n",
              " 'omakiva153',\n",
              " 'parvizrus13',\n",
              " 'cigicigi123',\n",
              " 'p@sslng2diword',\n",
              " 'xtswdypgh936',\n",
              " 'oscar69',\n",
              " 'isqizkg1',\n",
              " 'kjkjkj1',\n",
              " 'gill02',\n",
              " 'may112001',\n",
              " 'legna13',\n",
              " 'patty94',\n",
              " 'aslpls2009',\n",
              " '215466kenyi',\n",
              " 'mmm23mm',\n",
              " 'icap12',\n",
              " 'kikeq102',\n",
              " 'llahetihw1',\n",
              " 'cerner09',\n",
              " '2021848709.',\n",
              " '1234159hero',\n",
              " 'potatobus150',\n",
              " 'autan88',\n",
              " 'matiz4533',\n",
              " 'pekai2004',\n",
              " 'mohantra1',\n",
              " 'roxana1993',\n",
              " 'jerusalem393',\n",
              " 'yitbos77',\n",
              " 'afavin964',\n",
              " 'ram@!sita15392',\n",
              " 'gkrqjs6',\n",
              " 'woaini0',\n",
              " 'paladinas1',\n",
              " 'kXzWOozU2MQ1Jv1h',\n",
              " 'buqodym199',\n",
              " 'pato221182',\n",
              " '929865yt',\n",
              " 'wasanun13',\n",
              " 'kdl9cl53',\n",
              " 'vietnga92',\n",
              " 'juany57',\n",
              " 'Iamthelegend1!',\n",
              " '123nicole',\n",
              " 'osimeytju12',\n",
              " 'kunyukbabi69',\n",
              " 'adminmao888',\n",
              " 'gkrqjs6',\n",
              " 'Oshity07142014',\n",
              " 'pablo321159',\n",
              " 'uziwocy148',\n",
              " 'tamanagung6',\n",
              " 'schalke04',\n",
              " '2yz4ewwg',\n",
              " '3f5xd41l0ik7',\n",
              " 'meopvywk628',\n",
              " 'aosmaxd0',\n",
              " 'nokia6020',\n",
              " 'kswa2mrv',\n",
              " 'a2486315',\n",
              " 'lrhxmevb620',\n",
              " 'ldteugao6',\n",
              " 'wisal1234',\n",
              " 'sebo82',\n",
              " 'sbl571017',\n",
              " 'a2486315',\n",
              " 'virush1n1',\n",
              " 'we34dar88',\n",
              " '7942vikas',\n",
              " 'finisterra1',\n",
              " 'iwaguh884',\n",
              " 'osimeytju12',\n",
              " '1qa2ws3ed4rf',\n",
              " 'pugceya468',\n",
              " 'portales1',\n",
              " 'a110804032',\n",
              " 'potatobus150',\n",
              " 'cesarmaio1',\n",
              " 'WUt9IZzE0OQ7PkNE',\n",
              " 'josue12',\n",
              " '0112358mayin0',\n",
              " 'jalingo1',\n",
              " 'wibi182d',\n",
              " 'killer5',\n",
              " '0VKWoODkwOAc0pZK',\n",
              " 'czuodhj972',\n",
              " 'pastorius88',\n",
              " 'cdann123',\n",
              " 'yqugu927',\n",
              " 'matiz4533',\n",
              " 'bugatti01',\n",
              " 'puegwajy416',\n",
              " 'ixehawojEPe418',\n",
              " 'kenneth610',\n",
              " 'ebacuro434',\n",
              " 'nebunule2',\n",
              " 'as326159',\n",
              " 'poilkjmnb987',\n",
              " 'p@sslng2diword',\n",
              " 'sw10d014',\n",
              " 'juliana19',\n",
              " 'tomas7896',\n",
              " 'uxyloga692',\n",
              " 'ga98SIzk0NwhiZaE',\n",
              " 'teemteem97',\n",
              " 'lzhzad1989',\n",
              " 'zjl0kx03',\n",
              " 'p3rf3ct0',\n",
              " 'mmm23mm',\n",
              " 'q0pv0fk',\n",
              " 'clave08',\n",
              " 'il0vey0u',\n",
              " 'junaid5',\n",
              " 'rLLh4WDQ2OAWbDO5',\n",
              " '3f5xd41l0ik7',\n",
              " 'lrhxmevb620',\n",
              " 'czuodhj972',\n",
              " 'visi7k1yr',\n",
              " 'DRAGON25',\n",
              " 'colorado27',\n",
              " 'sono11',\n",
              " 'groster152',\n",
              " 'woaini0',\n",
              " 'mdaffandi74',\n",
              " 'padhila30',\n",
              " 'limichan99',\n",
              " 'sandra0547',\n",
              " 'potatobus150',\n",
              " 'pablo321159',\n",
              " '123maxbala',\n",
              " 'Jovan13lovekenthjusvan4ever',\n",
              " 'xanyrum650',\n",
              " 'yuri110995',\n",
              " 'nhfdff2512',\n",
              " 'pacific52',\n",
              " 'xf6385494',\n",
              " '1972vishara',\n",
              " 'yllime123',\n",
              " 'urban1',\n",
              " 'Ju6BIMTU0MwYXtL4',\n",
              " 'cigicigi123',\n",
              " '123456ts',\n",
              " 'ok>bdk',\n",
              " 'qopybuxi2',\n",
              " '4lgYVfzk1MwuzHcn',\n",
              " 'tin030201',\n",
              " 'Jovan13lovekenthjusvan4ever',\n",
              " 'XqMB7vDMzOQocAFV',\n",
              " 'bugatti01',\n",
              " 'paulino123',\n",
              " 'fudijep286',\n",
              " 'wxS2ztDk4OATjBfI',\n",
              " 'ppnyadam09',\n",
              " 'polo2014',\n",
              " 'colorado27',\n",
              " 'ubojig109',\n",
              " 'YADHJIGSAWS11',\n",
              " 'hisnipes1',\n",
              " 'xp;ysmybst',\n",
              " 'GGmm26120904..',\n",
              " 'oatcake87',\n",
              " 'x0004534',\n",
              " 'mathilde54550',\n",
              " 'sasuke4',\n",
              " 'enziitoo1234',\n",
              " 'woogee04',\n",
              " '4osxw4r',\n",
              " '20Dgw7TQ0OQVdly7',\n",
              " 'isqizkg1',\n",
              " 'mustang337',\n",
              " 'lofebop480',\n",
              " 'djngeyut2707',\n",
              " 'gill02',\n",
              " 'kabrito1',\n",
              " 'as8594505',\n",
              " 'tahseen75',\n",
              " 'ihana906',\n",
              " 'mathilde54550',\n",
              " 'adminmao888',\n",
              " 'jbtcnd6',\n",
              " '0870330135a',\n",
              " 'lamborghin1',\n",
              " 'jsm159167',\n",
              " 'moken7',\n",
              " 'djda1203zj',\n",
              " 'e667794c1d',\n",
              " 'ilunia20',\n",
              " 'adminmao888',\n",
              " 'ekufite742',\n",
              " 'taurofive16',\n",
              " 'RPFUOUDQwMwVW0AS',\n",
              " 'aslpls2009',\n",
              " 'Scipio21152030067254',\n",
              " 'taiga0088',\n",
              " 'tahseen75',\n",
              " 'juliana19',\n",
              " 'hamqrc6',\n",
              " 'olyucskw52',\n",
              " 'p3rf3ct0',\n",
              " 'trabajonet9',\n",
              " 'control9',\n",
              " 'b9m7cxcgc',\n",
              " 'd6VyrkFV6oblxNs5N8cW',\n",
              " 'RqsuUsDYxNgr8T40',\n",
              " 'h1h2h3h4h5',\n",
              " '2021848709.',\n",
              " 'atigi839',\n",
              " 'webhostv1t1n',\n",
              " 'pazzini24',\n",
              " 'gvczfel801',\n",
              " '159951josh',\n",
              " 'bencike7',\n",
              " 'yami12',\n",
              " 'ok>bdk',\n",
              " '4165000yakub',\n",
              " 'cesarmaio1',\n",
              " 'jekkmoeder>',\n",
              " 'wxS2ztDk4OATjBfI',\n",
              " 'graciela2',\n",
              " 'pass0port',\n",
              " 'parent777',\n",
              " '5874813o',\n",
              " 'a0972986650',\n",
              " 'c1brb3lt',\n",
              " 'bellsuki1',\n",
              " '3f5xd41l0ik7',\n",
              " 'diegote10',\n",
              " '16731673ir',\n",
              " 'jbtcnd6',\n",
              " 'a03242241431a',\n",
              " '3y6iwef2g6',\n",
              " 'fr8OClDY1MAdEhHa',\n",
              " 'njmania114',\n",
              " 'ts34a3fodh3i',\n",
              " 'wxS2ztDk4OATjBfI',\n",
              " 'MT766631',\n",
              " '2d0d7qfz',\n",
              " 'acgyj188',\n",
              " 'uxyloga692',\n",
              " 'yzxwvgbdu503',\n",
              " 'purpledog1992',\n",
              " 'sydney213',\n",
              " '1ngaymuadong',\n",
              " 'azerty32',\n",
              " '1597535youssi',\n",
              " 'ayles2266',\n",
              " '030005qw',\n",
              " 'wxS2ztDk4OATjBfI',\n",
              " 'abizar08',\n",
              " 'mohantra1',\n",
              " 'kVczcljg4OA25Aeb',\n",
              " 'sasuke4',\n",
              " 'fk9qi21m',\n",
              " 'q0pv0fk',\n",
              " 'icap12',\n",
              " 'mustang337',\n",
              " 'z3ro1sm',\n",
              " '929865yt',\n",
              " 'sebax2013',\n",
              " 'rLLh4WDQ2OAWbDO5',\n",
              " 'azizi120583',\n",
              " 'tspirits08',\n",
              " 'j09000',\n",
              " 'nokia6020',\n",
              " 'pHyqueDIyNQ8vmhb',\n",
              " 'p2share',\n",
              " 'examy624',\n",
              " 'il0vey0u',\n",
              " 'ts34a3fodh3i',\n",
              " 'satelite31',\n",
              " 'upyjlneg80',\n",
              " 'a110804032',\n",
              " '7942vikas',\n",
              " 'oscar69',\n",
              " 'bugatti01',\n",
              " 'h1h2h3h4h5',\n",
              " 'exusop649',\n",
              " 'IjUcOtYqAwel725',\n",
              " 'PSVkampioen2013',\n",
              " 'iprwxmfk84',\n",
              " 'sanjaime1',\n",
              " 'webhost08',\n",
              " 'clave2013',\n",
              " 'studenko123',\n",
              " 'colorado27',\n",
              " 'aslpls2009',\n",
              " 'pato221182',\n",
              " 'BsKbJHTY4NgesCOs',\n",
              " 'a110804032',\n",
              " 'n501iomf',\n",
              " 'nK0yKXTU0NQHZE2e',\n",
              " 'zb08110229',\n",
              " '838188linh',\n",
              " 'cigicigi123',\n",
              " 'taiga0088',\n",
              " 'seng987321',\n",
              " 'wjngzro27',\n",
              " 'taulant123',\n",
              " 'faisal213',\n",
              " 'anon13',\n",
              " 'peluchin4',\n",
              " 'poseidon2011',\n",
              " 'fudijep286',\n",
              " 'krishna2',\n",
              " 'sbnivetha123',\n",
              " '3f5xd41l0ik7',\n",
              " 'buqodym199',\n",
              " 'ebogel225',\n",
              " 'gdfn76',\n",
              " 'polo2014',\n",
              " 'kukimuki123',\n",
              " 'sanki1',\n",
              " 'iacool99',\n",
              " 'jbiz04h4',\n",
              " 'UF1Z2WjE5Mg26R1K',\n",
              " 'webhostv1t1n',\n",
              " 'Staterkom20081993',\n",
              " 'Jovan13lovekenthjusvan4ever',\n",
              " 'franczuk33',\n",
              " 's4m2dx9e6',\n",
              " 'bc5e4vca',\n",
              " 'qopybuxi2',\n",
              " 'yqugu927',\n",
              " 'khurram_',\n",
              " 'yitbos77',\n",
              " 'apther1940',\n",
              " '2akira2',\n",
              " 'pikey231',\n",
              " 'ldteugao6',\n",
              " '2akira2',\n",
              " 'faisal213',\n",
              " 'gopal8420',\n",
              " 'apther1940',\n",
              " 'c1brb3lt',\n",
              " 'sqsn7a9',\n",
              " 'JEQuloqOFUd102',\n",
              " 'josue12',\n",
              " 'IP1yaTDUzOQWAeI5',\n",
              " 'n501iomf',\n",
              " 'lqksuym982',\n",
              " 'afs34214',\n",
              " '64whbrb351',\n",
              " 'DTUQG5jU5MwmR1L9',\n",
              " 'azerty32',\n",
              " 'tspirits08',\n",
              " 'hamqrc6',\n",
              " 'rsuvxz08b',\n",
              " 'ekufite742',\n",
              " 'kahcyxvj24',\n",
              " 'jekkmoeder>',\n",
              " 'keithar1',\n",
              " 'lzhzad1989',\n",
              " 'poluxyj32',\n",
              " 'vocal0619',\n",
              " 'ginger972',\n",
              " '3CgRg8DA1NQY1iEj',\n",
              " 'woaini0',\n",
              " 'AVYq1lDE4MgAZfNt',\n",
              " 'qwekl12',\n",
              " 'vietnga92',\n",
              " 't8IkFRDIxMAFV2JW',\n",
              " 'moken7',\n",
              " 'gvczfel801',\n",
              " 'jEzZXUTE3MgJ4fVk',\n",
              " 'a2531106',\n",
              " 'jj46azbo',\n",
              " 'kenyu001',\n",
              " 'arigato3',\n",
              " 'graciela2',\n",
              " 'jEzZXUTE3MgJ4fVk',\n",
              " 'avanakit72',\n",
              " '8521901bzk',\n",
              " 'www32223222',\n",
              " 'alchimie79',\n",
              " 'purpledog1992',\n",
              " '4TXr5KDYxNQVTo4g',\n",
              " '1qa2ws3ed4rf',\n",
              " '69556236gu',\n",
              " 'samemene@sm',\n",
              " 'josef0867',\n",
              " 'bellsuki1',\n",
              " 'password0880',\n",
              " 'pass0port',\n",
              " 'w9209640',\n",
              " 'tomas7896',\n",
              " 'rntprns7',\n",
              " 'upyjlneg80',\n",
              " 'gerylyx688',\n",
              " 'tahseen75',\n",
              " 'ajyrew547',\n",
              " 'b9m7cxcgc',\n",
              " 'g3rappa',\n",
              " 'abizar08',\n",
              " 'pass0port',\n",
              " 'gracimir87',\n",
              " 'meopvywk628',\n",
              " 'jules2109',\n",
              " 'portales1',\n",
              " 'afan520307',\n",
              " 'adriana1',\n",
              " 'kjkjkj1',\n",
              " 'webhostv1t1n',\n",
              " 'zjl0kx03',\n",
              " 'pato221182',\n",
              " 'sydney213',\n",
              " 'sofietou74',\n",
              " 'pizxmwaos537',\n",
              " 'buqodym199',\n",
              " 'seng987321',\n",
              " 'jerusalem393',\n",
              " 'alhama11408',\n",
              " 'p0lp0l',\n",
              " 'gracimir87',\n",
              " 'visi7k1yr',\n",
              " 'qn5xpg3k00',\n",
              " 'falre1524',\n",
              " 'RqsuUsDYxNgr8T40',\n",
              " '3rambywople',\n",
              " 'terrassa6',\n",
              " 'angelinajol52',\n",
              " 'xawipy995',\n",
              " 'a2486315',\n",
              " 'uziwocy148',\n",
              " 'eqomu958',\n",
              " 'markama10',\n",
              " 'seng987321',\n",
              " 'bozoxik602',\n",
              " '0VKWoODkwOAc0pZK',\n",
              " 'cesarmaio1',\n",
              " 'yv3hpf',\n",
              " 'sucupi516',\n",
              " '19821010a',\n",
              " 'jorge1489',\n",
              " 'memjan123',\n",
              " 'webhostv1t1n',\n",
              " 'han19660120',\n",
              " 'apther1940',\n",
              " 'c3h8bkzr',\n",
              " 'enziitoo1234',\n",
              " 'zeeshanbhai1',\n",
              " 'pxjwmeqyn5',\n",
              " 'kukimuki123',\n",
              " 'popo0404',\n",
              " 'mxvurqyws5',\n",
              " 'padhila30',\n",
              " 'pedronha96',\n",
              " 'alodise603',\n",
              " 'kong0074',\n",
              " 'universe2908',\n",
              " 'woogee04',\n",
              " 'c1brb3lt',\n",
              " '101010hadis',\n",
              " 'clave08',\n",
              " 'cribrot1200',\n",
              " 'markama10',\n",
              " '0lELoCDI1NAy8u7D',\n",
              " 'a1233210',\n",
              " 'h3ndr4',\n",
              " 'bc5e4vca',\n",
              " 'ezekiel720',\n",
              " 'byeypb2',\n",
              " 'servbot88',\n",
              " 'SLAEgyTk0OQxphJq',\n",
              " 'exitos2009',\n",
              " 'x57669',\n",
              " 'pmcm110118008',\n",
              " 'killer5',\n",
              " '238wofutUtIGyf',\n",
              " 'iwaguh884',\n",
              " 'kaiden12',\n",
              " '64959rodro',\n",
              " 'wilian123',\n",
              " '1972vishara',\n",
              " '225arysorIgEKa',\n",
              " 'mehmet4524572',\n",
              " '19821010a',\n",
              " 'gjm666',\n",
              " 'gaymaids1',\n",
              " 'virush1n1',\n",
              " 'RJXDk1zEyMwpyq0U',\n",
              " 'kong0074',\n",
              " 'yilmaz070',\n",
              " 'djawl1228',\n",
              " 'sanki1',\n",
              " 'satelite31',\n",
              " 'v10rica',\n",
              " '2akira2',\n",
              " 'edcmki90',\n",
              " 'kXzWOozU2MQ1Jv1h',\n",
              " '0lELoCDI1NAy8u7D',\n",
              " 'keithar1',\n",
              " 'ocadezi586',\n",
              " 'alimagik1',\n",
              " 'ydkmujrze3',\n",
              " 'ziKYRyqewaxE717',\n",
              " 'purpledog1992',\n",
              " 'azerty32',\n",
              " 'seng987321',\n",
              " 'ryjypes139',\n",
              " 'beijing168',\n",
              " 'upyjlneg80',\n",
              " 'adriana1',\n",
              " 'yjuqseb416',\n",
              " 'lollies1989',\n",
              " 'rntprns7',\n",
              " 'jntjmh7',\n",
              " 'juzako131',\n",
              " 'ts02521712',\n",
              " '847XagYxUHUXOW',\n",
              " 'daaxvie1',\n",
              " 'kenneth610',\n",
              " 'zidadoh258',\n",
              " 'gonzalez1559',\n",
              " 'MT766631',\n",
              " 'hasan18',\n",
              " 'sha122511',\n",
              " 'cigicigi123',\n",
              " 'xzeyfbi495',\n",
              " 'gombo8',\n",
              " 'pastorius88',\n",
              " 'seeyouagain1',\n",
              " 'juanito00',\n",
              " 'padhila30',\n",
              " 'itengf12',\n",
              " 'frhnsvelhfr1',\n",
              " 'hide68',\n",
              " 'aslanmarco007',\n",
              " 'cifinew817',\n",
              " 'planes123',\n",
              " 'sucupi516',\n",
              " 'jesmond26',\n",
              " 'wycinu436',\n",
              " '1katertje',\n",
              " 'dausakalys22',\n",
              " 'servbot88',\n",
              " ...]"
            ]
          },
          "metadata": {},
          "execution_count": 15
        }
      ]
    },
    {
      "cell_type": "markdown",
      "source": [
        "PERFORMING TF-IDF"
      ],
      "metadata": {
        "id": "pbKtz1DCDiPe"
      }
    },
    {
      "cell_type": "code",
      "source": [
        "def  word_divide_char(inputs):\n",
        "  character=[]\n",
        "  for i in inputs:\n",
        "    character.append(i)\n",
        "  return character "
      ],
      "metadata": {
        "id": "wIYZcJ-0BN8T"
      },
      "execution_count": 16,
      "outputs": []
    },
    {
      "cell_type": "code",
      "source": [
        "word_divide_char('GGmm26120904..')"
      ],
      "metadata": {
        "colab": {
          "base_uri": "https://localhost:8080/"
        },
        "id": "-YIy7SqpD7Bp",
        "outputId": "9ddf41f0-e52f-4d70-ef7e-d0ef7d2e6fc3"
      },
      "execution_count": 17,
      "outputs": [
        {
          "output_type": "execute_result",
          "data": {
            "text/plain": [
              "['G', 'G', 'm', 'm', '2', '6', '1', '2', '0', '9', '0', '4', '.', '.']"
            ]
          },
          "metadata": {},
          "execution_count": 17
        }
      ]
    },
    {
      "cell_type": "code",
      "source": [
        "\n",
        "from sklearn.feature_extraction.text import TfidfVectorizer\n"
      ],
      "metadata": {
        "id": "hsZBtAvhEEro"
      },
      "execution_count": 18,
      "outputs": []
    },
    {
      "cell_type": "code",
      "source": [
        "vectorizer=TfidfVectorizer(tokenizer=word_divide_char)"
      ],
      "metadata": {
        "id": "H8WmgmVUEX82"
      },
      "execution_count": 19,
      "outputs": []
    },
    {
      "cell_type": "code",
      "source": [
        "X=vectorizer.fit_transform(x)"
      ],
      "metadata": {
        "id": "ydA3PwprFJqb"
      },
      "execution_count": 20,
      "outputs": []
    },
    {
      "cell_type": "code",
      "source": [
        "X.shape"
      ],
      "metadata": {
        "colab": {
          "base_uri": "https://localhost:8080/"
        },
        "id": "PxSClwzAFlTa",
        "outputId": "4039f69e-5f16-4b43-853a-5a85fe235a27"
      },
      "execution_count": 21,
      "outputs": [
        {
          "output_type": "execute_result",
          "data": {
            "text/plain": [
              "(669639, 129)"
            ]
          },
          "metadata": {},
          "execution_count": 21
        }
      ]
    },
    {
      "cell_type": "code",
      "source": [
        "vectorizer.get_feature_names_out()"
      ],
      "metadata": {
        "colab": {
          "base_uri": "https://localhost:8080/"
        },
        "id": "etfiDLNlFvpe",
        "outputId": "3d1f159c-817b-4815-ef45-277787b82ddf"
      },
      "execution_count": 22,
      "outputs": [
        {
          "output_type": "execute_result",
          "data": {
            "text/plain": [
              "array(['\\x01', '\\x04', '\\x05', '\\x06', '\\x08', '\\x0e', '\\x10', '\\x16',\n",
              "       '\\x17', '\\x19', '\\x1b', '\\x1c', '\\x1e', ' ', '!', '\"', '#', '$',\n",
              "       '%', '&', '(', ')', '*', '+', '-', '.', '/', '0', '1', '2', '3',\n",
              "       '4', '5', '6', '7', '8', '9', ';', '<', '=', '>', '?', '@', '[',\n",
              "       '\\\\', ']', '^', '_', '`', 'a', 'b', 'c', 'd', 'e', 'f', 'g', 'h',\n",
              "       'i', 'j', 'k', 'l', 'm', 'n', 'o', 'p', 'q', 'r', 's', 't', 'u',\n",
              "       'v', 'w', 'x', 'y', 'z', '{', '|', '}', '~', '\\x7f', '\\x81',\n",
              "       '\\x8d', '\\xa0', '¡', '¤', '¨', '«', '¯', '°', '±', '²', '³', '´',\n",
              "       'µ', '·', 'º', '¾', '¿', 'ß', 'à', 'á', 'â', 'ä', 'å', 'æ', 'ç',\n",
              "       'è', 'é', 'ê', 'í', 'î', 'ï', 'ð', 'ñ', 'ò', 'ó', 'ô', 'õ', 'ö',\n",
              "       '÷', 'ù', 'ú', 'û', 'ü', 'ý', 'þ', 'ÿ', '‚', '…'], dtype=object)"
            ]
          },
          "metadata": {},
          "execution_count": 22
        }
      ]
    },
    {
      "cell_type": "code",
      "source": [
        "first_document_vector=X[0]\n",
        "first_document_vector"
      ],
      "metadata": {
        "colab": {
          "base_uri": "https://localhost:8080/"
        },
        "id": "QL5FdMRzF1Y8",
        "outputId": "07b809f7-3390-4557-9f52-1888aea27591"
      },
      "execution_count": 23,
      "outputs": [
        {
          "output_type": "execute_result",
          "data": {
            "text/plain": [
              "<1x129 sparse matrix of type '<class 'numpy.float64'>'\n",
              "\twith 6 stored elements in Compressed Sparse Row format>"
            ]
          },
          "metadata": {},
          "execution_count": 23
        }
      ]
    },
    {
      "cell_type": "code",
      "source": [
        "first_document_vector.T.todense()"
      ],
      "metadata": {
        "colab": {
          "base_uri": "https://localhost:8080/"
        },
        "id": "258Eu3Q1GCfp",
        "outputId": "d74e58a2-efc8-4c38-8083-dcd8f483e3f1"
      },
      "execution_count": 24,
      "outputs": [
        {
          "output_type": "execute_result",
          "data": {
            "text/plain": [
              "matrix([[0.        ],\n",
              "        [0.        ],\n",
              "        [0.        ],\n",
              "        [0.        ],\n",
              "        [0.        ],\n",
              "        [0.        ],\n",
              "        [0.        ],\n",
              "        [0.        ],\n",
              "        [0.        ],\n",
              "        [0.        ],\n",
              "        [0.        ],\n",
              "        [0.        ],\n",
              "        [0.        ],\n",
              "        [0.        ],\n",
              "        [0.        ],\n",
              "        [0.        ],\n",
              "        [0.        ],\n",
              "        [0.        ],\n",
              "        [0.        ],\n",
              "        [0.        ],\n",
              "        [0.        ],\n",
              "        [0.        ],\n",
              "        [0.        ],\n",
              "        [0.        ],\n",
              "        [0.        ],\n",
              "        [0.        ],\n",
              "        [0.        ],\n",
              "        [0.        ],\n",
              "        [0.        ],\n",
              "        [0.        ],\n",
              "        [0.        ],\n",
              "        [0.        ],\n",
              "        [0.56667822],\n",
              "        [0.        ],\n",
              "        [0.59163202],\n",
              "        [0.        ],\n",
              "        [0.        ],\n",
              "        [0.        ],\n",
              "        [0.        ],\n",
              "        [0.        ],\n",
              "        [0.        ],\n",
              "        [0.        ],\n",
              "        [0.        ],\n",
              "        [0.        ],\n",
              "        [0.        ],\n",
              "        [0.        ],\n",
              "        [0.        ],\n",
              "        [0.        ],\n",
              "        [0.        ],\n",
              "        [0.        ],\n",
              "        [0.        ],\n",
              "        [0.        ],\n",
              "        [0.28604009],\n",
              "        [0.22142562],\n",
              "        [0.        ],\n",
              "        [0.        ],\n",
              "        [0.        ],\n",
              "        [0.        ],\n",
              "        [0.        ],\n",
              "        [0.29158961],\n",
              "        [0.        ],\n",
              "        [0.        ],\n",
              "        [0.        ],\n",
              "        [0.        ],\n",
              "        [0.        ],\n",
              "        [0.        ],\n",
              "        [0.        ],\n",
              "        [0.        ],\n",
              "        [0.        ],\n",
              "        [0.        ],\n",
              "        [0.        ],\n",
              "        [0.        ],\n",
              "        [0.        ],\n",
              "        [0.        ],\n",
              "        [0.33611695],\n",
              "        [0.        ],\n",
              "        [0.        ],\n",
              "        [0.        ],\n",
              "        [0.        ],\n",
              "        [0.        ],\n",
              "        [0.        ],\n",
              "        [0.        ],\n",
              "        [0.        ],\n",
              "        [0.        ],\n",
              "        [0.        ],\n",
              "        [0.        ],\n",
              "        [0.        ],\n",
              "        [0.        ],\n",
              "        [0.        ],\n",
              "        [0.        ],\n",
              "        [0.        ],\n",
              "        [0.        ],\n",
              "        [0.        ],\n",
              "        [0.        ],\n",
              "        [0.        ],\n",
              "        [0.        ],\n",
              "        [0.        ],\n",
              "        [0.        ],\n",
              "        [0.        ],\n",
              "        [0.        ],\n",
              "        [0.        ],\n",
              "        [0.        ],\n",
              "        [0.        ],\n",
              "        [0.        ],\n",
              "        [0.        ],\n",
              "        [0.        ],\n",
              "        [0.        ],\n",
              "        [0.        ],\n",
              "        [0.        ],\n",
              "        [0.        ],\n",
              "        [0.        ],\n",
              "        [0.        ],\n",
              "        [0.        ],\n",
              "        [0.        ],\n",
              "        [0.        ],\n",
              "        [0.        ],\n",
              "        [0.        ],\n",
              "        [0.        ],\n",
              "        [0.        ],\n",
              "        [0.        ],\n",
              "        [0.        ],\n",
              "        [0.        ],\n",
              "        [0.        ],\n",
              "        [0.        ],\n",
              "        [0.        ],\n",
              "        [0.        ],\n",
              "        [0.        ],\n",
              "        [0.        ],\n",
              "        [0.        ]])"
            ]
          },
          "metadata": {},
          "execution_count": 24
        }
      ]
    },
    {
      "cell_type": "code",
      "source": [
        "df=pd.DataFrame(first_document_vector.T.todense(),index=vectorizer.get_feature_names_out(),columns=['TF-IDF'])"
      ],
      "metadata": {
        "id": "iOwmswZLGdcp"
      },
      "execution_count": 25,
      "outputs": []
    },
    {
      "cell_type": "code",
      "source": [
        "df"
      ],
      "metadata": {
        "colab": {
          "base_uri": "https://localhost:8080/",
          "height": 423
        },
        "id": "G-wAmt4EG0eI",
        "outputId": "e054ee06-5335-41e8-a546-d089d2e1f57e"
      },
      "execution_count": 26,
      "outputs": [
        {
          "output_type": "execute_result",
          "data": {
            "text/plain": [
              "    TF-IDF\n",
              "\u0001      0.0\n",
              "\u0004      0.0\n",
              "\u0005      0.0\n",
              "\u0006      0.0\n",
              "\b      0.0\n",
              "..     ...\n",
              "ý      0.0\n",
              "þ      0.0\n",
              "ÿ      0.0\n",
              "‚      0.0\n",
              "…      0.0\n",
              "\n",
              "[129 rows x 1 columns]"
            ],
            "text/html": [
              "\n",
              "  <div id=\"df-e4b0c86b-9f09-4a9b-ab68-0ff4fdec6c11\">\n",
              "    <div class=\"colab-df-container\">\n",
              "      <div>\n",
              "<style scoped>\n",
              "    .dataframe tbody tr th:only-of-type {\n",
              "        vertical-align: middle;\n",
              "    }\n",
              "\n",
              "    .dataframe tbody tr th {\n",
              "        vertical-align: top;\n",
              "    }\n",
              "\n",
              "    .dataframe thead th {\n",
              "        text-align: right;\n",
              "    }\n",
              "</style>\n",
              "<table border=\"1\" class=\"dataframe\">\n",
              "  <thead>\n",
              "    <tr style=\"text-align: right;\">\n",
              "      <th></th>\n",
              "      <th>TF-IDF</th>\n",
              "    </tr>\n",
              "  </thead>\n",
              "  <tbody>\n",
              "    <tr>\n",
              "      <th>\u0001</th>\n",
              "      <td>0.0</td>\n",
              "    </tr>\n",
              "    <tr>\n",
              "      <th>\u0004</th>\n",
              "      <td>0.0</td>\n",
              "    </tr>\n",
              "    <tr>\n",
              "      <th>\u0005</th>\n",
              "      <td>0.0</td>\n",
              "    </tr>\n",
              "    <tr>\n",
              "      <th>\u0006</th>\n",
              "      <td>0.0</td>\n",
              "    </tr>\n",
              "    <tr>\n",
              "      <th>\b</th>\n",
              "      <td>0.0</td>\n",
              "    </tr>\n",
              "    <tr>\n",
              "      <th>...</th>\n",
              "      <td>...</td>\n",
              "    </tr>\n",
              "    <tr>\n",
              "      <th>ý</th>\n",
              "      <td>0.0</td>\n",
              "    </tr>\n",
              "    <tr>\n",
              "      <th>þ</th>\n",
              "      <td>0.0</td>\n",
              "    </tr>\n",
              "    <tr>\n",
              "      <th>ÿ</th>\n",
              "      <td>0.0</td>\n",
              "    </tr>\n",
              "    <tr>\n",
              "      <th>‚</th>\n",
              "      <td>0.0</td>\n",
              "    </tr>\n",
              "    <tr>\n",
              "      <th>…</th>\n",
              "      <td>0.0</td>\n",
              "    </tr>\n",
              "  </tbody>\n",
              "</table>\n",
              "<p>129 rows × 1 columns</p>\n",
              "</div>\n",
              "      <button class=\"colab-df-convert\" onclick=\"convertToInteractive('df-e4b0c86b-9f09-4a9b-ab68-0ff4fdec6c11')\"\n",
              "              title=\"Convert this dataframe to an interactive table.\"\n",
              "              style=\"display:none;\">\n",
              "        \n",
              "  <svg xmlns=\"http://www.w3.org/2000/svg\" height=\"24px\"viewBox=\"0 0 24 24\"\n",
              "       width=\"24px\">\n",
              "    <path d=\"M0 0h24v24H0V0z\" fill=\"none\"/>\n",
              "    <path d=\"M18.56 5.44l.94 2.06.94-2.06 2.06-.94-2.06-.94-.94-2.06-.94 2.06-2.06.94zm-11 1L8.5 8.5l.94-2.06 2.06-.94-2.06-.94L8.5 2.5l-.94 2.06-2.06.94zm10 10l.94 2.06.94-2.06 2.06-.94-2.06-.94-.94-2.06-.94 2.06-2.06.94z\"/><path d=\"M17.41 7.96l-1.37-1.37c-.4-.4-.92-.59-1.43-.59-.52 0-1.04.2-1.43.59L10.3 9.45l-7.72 7.72c-.78.78-.78 2.05 0 2.83L4 21.41c.39.39.9.59 1.41.59.51 0 1.02-.2 1.41-.59l7.78-7.78 2.81-2.81c.8-.78.8-2.07 0-2.86zM5.41 20L4 18.59l7.72-7.72 1.47 1.35L5.41 20z\"/>\n",
              "  </svg>\n",
              "      </button>\n",
              "      \n",
              "  <style>\n",
              "    .colab-df-container {\n",
              "      display:flex;\n",
              "      flex-wrap:wrap;\n",
              "      gap: 12px;\n",
              "    }\n",
              "\n",
              "    .colab-df-convert {\n",
              "      background-color: #E8F0FE;\n",
              "      border: none;\n",
              "      border-radius: 50%;\n",
              "      cursor: pointer;\n",
              "      display: none;\n",
              "      fill: #1967D2;\n",
              "      height: 32px;\n",
              "      padding: 0 0 0 0;\n",
              "      width: 32px;\n",
              "    }\n",
              "\n",
              "    .colab-df-convert:hover {\n",
              "      background-color: #E2EBFA;\n",
              "      box-shadow: 0px 1px 2px rgba(60, 64, 67, 0.3), 0px 1px 3px 1px rgba(60, 64, 67, 0.15);\n",
              "      fill: #174EA6;\n",
              "    }\n",
              "\n",
              "    [theme=dark] .colab-df-convert {\n",
              "      background-color: #3B4455;\n",
              "      fill: #D2E3FC;\n",
              "    }\n",
              "\n",
              "    [theme=dark] .colab-df-convert:hover {\n",
              "      background-color: #434B5C;\n",
              "      box-shadow: 0px 1px 3px 1px rgba(0, 0, 0, 0.15);\n",
              "      filter: drop-shadow(0px 1px 2px rgba(0, 0, 0, 0.3));\n",
              "      fill: #FFFFFF;\n",
              "    }\n",
              "  </style>\n",
              "\n",
              "      <script>\n",
              "        const buttonEl =\n",
              "          document.querySelector('#df-e4b0c86b-9f09-4a9b-ab68-0ff4fdec6c11 button.colab-df-convert');\n",
              "        buttonEl.style.display =\n",
              "          google.colab.kernel.accessAllowed ? 'block' : 'none';\n",
              "\n",
              "        async function convertToInteractive(key) {\n",
              "          const element = document.querySelector('#df-e4b0c86b-9f09-4a9b-ab68-0ff4fdec6c11');\n",
              "          const dataTable =\n",
              "            await google.colab.kernel.invokeFunction('convertToInteractive',\n",
              "                                                     [key], {});\n",
              "          if (!dataTable) return;\n",
              "\n",
              "          const docLinkHtml = 'Like what you see? Visit the ' +\n",
              "            '<a target=\"_blank\" href=https://colab.research.google.com/notebooks/data_table.ipynb>data table notebook</a>'\n",
              "            + ' to learn more about interactive tables.';\n",
              "          element.innerHTML = '';\n",
              "          dataTable['output_type'] = 'display_data';\n",
              "          await google.colab.output.renderOutput(dataTable, element);\n",
              "          const docLink = document.createElement('div');\n",
              "          docLink.innerHTML = docLinkHtml;\n",
              "          element.appendChild(docLink);\n",
              "        }\n",
              "      </script>\n",
              "    </div>\n",
              "  </div>\n",
              "  "
            ]
          },
          "metadata": {},
          "execution_count": 26
        }
      ]
    },
    {
      "cell_type": "code",
      "source": [
        "df.sort_values(by=['TF-IDF'],ascending=False)"
      ],
      "metadata": {
        "colab": {
          "base_uri": "https://localhost:8080/",
          "height": 423
        },
        "id": "Vse8k0DMG1Pd",
        "outputId": "4e682c79-212d-4c1e-b914-a0752ba2371d"
      },
      "execution_count": 27,
      "outputs": [
        {
          "output_type": "execute_result",
          "data": {
            "text/plain": [
              "      TF-IDF\n",
              "7   0.591632\n",
              "5   0.566678\n",
              "z   0.336117\n",
              "k   0.291590\n",
              "d   0.286040\n",
              "..       ...\n",
              "<   0.000000\n",
              ";   0.000000\n",
              "9   0.000000\n",
              "8   0.000000\n",
              "…   0.000000\n",
              "\n",
              "[129 rows x 1 columns]"
            ],
            "text/html": [
              "\n",
              "  <div id=\"df-887921d1-4c9c-483b-8787-740b9c30a678\">\n",
              "    <div class=\"colab-df-container\">\n",
              "      <div>\n",
              "<style scoped>\n",
              "    .dataframe tbody tr th:only-of-type {\n",
              "        vertical-align: middle;\n",
              "    }\n",
              "\n",
              "    .dataframe tbody tr th {\n",
              "        vertical-align: top;\n",
              "    }\n",
              "\n",
              "    .dataframe thead th {\n",
              "        text-align: right;\n",
              "    }\n",
              "</style>\n",
              "<table border=\"1\" class=\"dataframe\">\n",
              "  <thead>\n",
              "    <tr style=\"text-align: right;\">\n",
              "      <th></th>\n",
              "      <th>TF-IDF</th>\n",
              "    </tr>\n",
              "  </thead>\n",
              "  <tbody>\n",
              "    <tr>\n",
              "      <th>7</th>\n",
              "      <td>0.591632</td>\n",
              "    </tr>\n",
              "    <tr>\n",
              "      <th>5</th>\n",
              "      <td>0.566678</td>\n",
              "    </tr>\n",
              "    <tr>\n",
              "      <th>z</th>\n",
              "      <td>0.336117</td>\n",
              "    </tr>\n",
              "    <tr>\n",
              "      <th>k</th>\n",
              "      <td>0.291590</td>\n",
              "    </tr>\n",
              "    <tr>\n",
              "      <th>d</th>\n",
              "      <td>0.286040</td>\n",
              "    </tr>\n",
              "    <tr>\n",
              "      <th>...</th>\n",
              "      <td>...</td>\n",
              "    </tr>\n",
              "    <tr>\n",
              "      <th>&lt;</th>\n",
              "      <td>0.000000</td>\n",
              "    </tr>\n",
              "    <tr>\n",
              "      <th>;</th>\n",
              "      <td>0.000000</td>\n",
              "    </tr>\n",
              "    <tr>\n",
              "      <th>9</th>\n",
              "      <td>0.000000</td>\n",
              "    </tr>\n",
              "    <tr>\n",
              "      <th>8</th>\n",
              "      <td>0.000000</td>\n",
              "    </tr>\n",
              "    <tr>\n",
              "      <th>…</th>\n",
              "      <td>0.000000</td>\n",
              "    </tr>\n",
              "  </tbody>\n",
              "</table>\n",
              "<p>129 rows × 1 columns</p>\n",
              "</div>\n",
              "      <button class=\"colab-df-convert\" onclick=\"convertToInteractive('df-887921d1-4c9c-483b-8787-740b9c30a678')\"\n",
              "              title=\"Convert this dataframe to an interactive table.\"\n",
              "              style=\"display:none;\">\n",
              "        \n",
              "  <svg xmlns=\"http://www.w3.org/2000/svg\" height=\"24px\"viewBox=\"0 0 24 24\"\n",
              "       width=\"24px\">\n",
              "    <path d=\"M0 0h24v24H0V0z\" fill=\"none\"/>\n",
              "    <path d=\"M18.56 5.44l.94 2.06.94-2.06 2.06-.94-2.06-.94-.94-2.06-.94 2.06-2.06.94zm-11 1L8.5 8.5l.94-2.06 2.06-.94-2.06-.94L8.5 2.5l-.94 2.06-2.06.94zm10 10l.94 2.06.94-2.06 2.06-.94-2.06-.94-.94-2.06-.94 2.06-2.06.94z\"/><path d=\"M17.41 7.96l-1.37-1.37c-.4-.4-.92-.59-1.43-.59-.52 0-1.04.2-1.43.59L10.3 9.45l-7.72 7.72c-.78.78-.78 2.05 0 2.83L4 21.41c.39.39.9.59 1.41.59.51 0 1.02-.2 1.41-.59l7.78-7.78 2.81-2.81c.8-.78.8-2.07 0-2.86zM5.41 20L4 18.59l7.72-7.72 1.47 1.35L5.41 20z\"/>\n",
              "  </svg>\n",
              "      </button>\n",
              "      \n",
              "  <style>\n",
              "    .colab-df-container {\n",
              "      display:flex;\n",
              "      flex-wrap:wrap;\n",
              "      gap: 12px;\n",
              "    }\n",
              "\n",
              "    .colab-df-convert {\n",
              "      background-color: #E8F0FE;\n",
              "      border: none;\n",
              "      border-radius: 50%;\n",
              "      cursor: pointer;\n",
              "      display: none;\n",
              "      fill: #1967D2;\n",
              "      height: 32px;\n",
              "      padding: 0 0 0 0;\n",
              "      width: 32px;\n",
              "    }\n",
              "\n",
              "    .colab-df-convert:hover {\n",
              "      background-color: #E2EBFA;\n",
              "      box-shadow: 0px 1px 2px rgba(60, 64, 67, 0.3), 0px 1px 3px 1px rgba(60, 64, 67, 0.15);\n",
              "      fill: #174EA6;\n",
              "    }\n",
              "\n",
              "    [theme=dark] .colab-df-convert {\n",
              "      background-color: #3B4455;\n",
              "      fill: #D2E3FC;\n",
              "    }\n",
              "\n",
              "    [theme=dark] .colab-df-convert:hover {\n",
              "      background-color: #434B5C;\n",
              "      box-shadow: 0px 1px 3px 1px rgba(0, 0, 0, 0.15);\n",
              "      filter: drop-shadow(0px 1px 2px rgba(0, 0, 0, 0.3));\n",
              "      fill: #FFFFFF;\n",
              "    }\n",
              "  </style>\n",
              "\n",
              "      <script>\n",
              "        const buttonEl =\n",
              "          document.querySelector('#df-887921d1-4c9c-483b-8787-740b9c30a678 button.colab-df-convert');\n",
              "        buttonEl.style.display =\n",
              "          google.colab.kernel.accessAllowed ? 'block' : 'none';\n",
              "\n",
              "        async function convertToInteractive(key) {\n",
              "          const element = document.querySelector('#df-887921d1-4c9c-483b-8787-740b9c30a678');\n",
              "          const dataTable =\n",
              "            await google.colab.kernel.invokeFunction('convertToInteractive',\n",
              "                                                     [key], {});\n",
              "          if (!dataTable) return;\n",
              "\n",
              "          const docLinkHtml = 'Like what you see? Visit the ' +\n",
              "            '<a target=\"_blank\" href=https://colab.research.google.com/notebooks/data_table.ipynb>data table notebook</a>'\n",
              "            + ' to learn more about interactive tables.';\n",
              "          element.innerHTML = '';\n",
              "          dataTable['output_type'] = 'display_data';\n",
              "          await google.colab.output.renderOutput(dataTable, element);\n",
              "          const docLink = document.createElement('div');\n",
              "          docLink.innerHTML = docLinkHtml;\n",
              "          element.appendChild(docLink);\n",
              "        }\n",
              "      </script>\n",
              "    </div>\n",
              "  </div>\n",
              "  "
            ]
          },
          "metadata": {},
          "execution_count": 27
        }
      ]
    },
    {
      "cell_type": "markdown",
      "source": [
        "SPLITTING THE DATA"
      ],
      "metadata": {
        "id": "swgBWqM-HUjj"
      }
    },
    {
      "cell_type": "code",
      "source": [
        "pip install -U scikit-learn"
      ],
      "metadata": {
        "colab": {
          "base_uri": "https://localhost:8080/"
        },
        "id": "jsjYxunJHHG8",
        "outputId": "d82beed5-12bc-40b0-9900-78f873465096"
      },
      "execution_count": 28,
      "outputs": [
        {
          "output_type": "stream",
          "name": "stdout",
          "text": [
            "Looking in indexes: https://pypi.org/simple, https://us-python.pkg.dev/colab-wheels/public/simple/\n",
            "Requirement already satisfied: scikit-learn in /usr/local/lib/python3.9/dist-packages (1.2.2)\n",
            "Requirement already satisfied: joblib>=1.1.1 in /usr/local/lib/python3.9/dist-packages (from scikit-learn) (1.1.1)\n",
            "Requirement already satisfied: threadpoolctl>=2.0.0 in /usr/local/lib/python3.9/dist-packages (from scikit-learn) (3.1.0)\n",
            "Requirement already satisfied: scipy>=1.3.2 in /usr/local/lib/python3.9/dist-packages (from scikit-learn) (1.10.1)\n",
            "Requirement already satisfied: numpy>=1.17.3 in /usr/local/lib/python3.9/dist-packages (from scikit-learn) (1.22.4)\n"
          ]
        }
      ]
    },
    {
      "cell_type": "code",
      "source": [
        "from sklearn.model_selection import train_test_split\n",
        "x_train,x_test,y_train,y_test=train_test_split(X,y,test_size=0.2)"
      ],
      "metadata": {
        "id": "n-1pK8z0HlND"
      },
      "execution_count": 31,
      "outputs": []
    },
    {
      "cell_type": "code",
      "source": [
        "x_train.shape"
      ],
      "metadata": {
        "colab": {
          "base_uri": "https://localhost:8080/"
        },
        "id": "B5e_Gz7YIlSD",
        "outputId": "c793dbda-4d14-4fdb-abda-ff24799d24a5"
      },
      "execution_count": 32,
      "outputs": [
        {
          "output_type": "execute_result",
          "data": {
            "text/plain": [
              "(535711, 129)"
            ]
          },
          "metadata": {},
          "execution_count": 32
        }
      ]
    },
    {
      "cell_type": "code",
      "source": [
        "from sklearn.linear_model import LogisticRegression"
      ],
      "metadata": {
        "id": "q0tSEObuIuFH"
      },
      "execution_count": 33,
      "outputs": []
    },
    {
      "cell_type": "code",
      "source": [
        "clf=LogisticRegression(random_state=0,multi_class='multinomial')"
      ],
      "metadata": {
        "id": "8iFV3gf6I2Ay"
      },
      "execution_count": 36,
      "outputs": []
    },
    {
      "cell_type": "code",
      "source": [
        "clf.fit(x_train,y_train)"
      ],
      "metadata": {
        "colab": {
          "base_uri": "https://localhost:8080/",
          "height": 74
        },
        "id": "9OVw2ajLJArn",
        "outputId": "3067afdc-006d-4861-f013-5def1939a879"
      },
      "execution_count": 37,
      "outputs": [
        {
          "output_type": "execute_result",
          "data": {
            "text/plain": [
              "LogisticRegression(multi_class='multinomial', random_state=0)"
            ],
            "text/html": [
              "<style>#sk-container-id-1 {color: black;background-color: white;}#sk-container-id-1 pre{padding: 0;}#sk-container-id-1 div.sk-toggleable {background-color: white;}#sk-container-id-1 label.sk-toggleable__label {cursor: pointer;display: block;width: 100%;margin-bottom: 0;padding: 0.3em;box-sizing: border-box;text-align: center;}#sk-container-id-1 label.sk-toggleable__label-arrow:before {content: \"▸\";float: left;margin-right: 0.25em;color: #696969;}#sk-container-id-1 label.sk-toggleable__label-arrow:hover:before {color: black;}#sk-container-id-1 div.sk-estimator:hover label.sk-toggleable__label-arrow:before {color: black;}#sk-container-id-1 div.sk-toggleable__content {max-height: 0;max-width: 0;overflow: hidden;text-align: left;background-color: #f0f8ff;}#sk-container-id-1 div.sk-toggleable__content pre {margin: 0.2em;color: black;border-radius: 0.25em;background-color: #f0f8ff;}#sk-container-id-1 input.sk-toggleable__control:checked~div.sk-toggleable__content {max-height: 200px;max-width: 100%;overflow: auto;}#sk-container-id-1 input.sk-toggleable__control:checked~label.sk-toggleable__label-arrow:before {content: \"▾\";}#sk-container-id-1 div.sk-estimator input.sk-toggleable__control:checked~label.sk-toggleable__label {background-color: #d4ebff;}#sk-container-id-1 div.sk-label input.sk-toggleable__control:checked~label.sk-toggleable__label {background-color: #d4ebff;}#sk-container-id-1 input.sk-hidden--visually {border: 0;clip: rect(1px 1px 1px 1px);clip: rect(1px, 1px, 1px, 1px);height: 1px;margin: -1px;overflow: hidden;padding: 0;position: absolute;width: 1px;}#sk-container-id-1 div.sk-estimator {font-family: monospace;background-color: #f0f8ff;border: 1px dotted black;border-radius: 0.25em;box-sizing: border-box;margin-bottom: 0.5em;}#sk-container-id-1 div.sk-estimator:hover {background-color: #d4ebff;}#sk-container-id-1 div.sk-parallel-item::after {content: \"\";width: 100%;border-bottom: 1px solid gray;flex-grow: 1;}#sk-container-id-1 div.sk-label:hover label.sk-toggleable__label {background-color: #d4ebff;}#sk-container-id-1 div.sk-serial::before {content: \"\";position: absolute;border-left: 1px solid gray;box-sizing: border-box;top: 0;bottom: 0;left: 50%;z-index: 0;}#sk-container-id-1 div.sk-serial {display: flex;flex-direction: column;align-items: center;background-color: white;padding-right: 0.2em;padding-left: 0.2em;position: relative;}#sk-container-id-1 div.sk-item {position: relative;z-index: 1;}#sk-container-id-1 div.sk-parallel {display: flex;align-items: stretch;justify-content: center;background-color: white;position: relative;}#sk-container-id-1 div.sk-item::before, #sk-container-id-1 div.sk-parallel-item::before {content: \"\";position: absolute;border-left: 1px solid gray;box-sizing: border-box;top: 0;bottom: 0;left: 50%;z-index: -1;}#sk-container-id-1 div.sk-parallel-item {display: flex;flex-direction: column;z-index: 1;position: relative;background-color: white;}#sk-container-id-1 div.sk-parallel-item:first-child::after {align-self: flex-end;width: 50%;}#sk-container-id-1 div.sk-parallel-item:last-child::after {align-self: flex-start;width: 50%;}#sk-container-id-1 div.sk-parallel-item:only-child::after {width: 0;}#sk-container-id-1 div.sk-dashed-wrapped {border: 1px dashed gray;margin: 0 0.4em 0.5em 0.4em;box-sizing: border-box;padding-bottom: 0.4em;background-color: white;}#sk-container-id-1 div.sk-label label {font-family: monospace;font-weight: bold;display: inline-block;line-height: 1.2em;}#sk-container-id-1 div.sk-label-container {text-align: center;}#sk-container-id-1 div.sk-container {/* jupyter's `normalize.less` sets `[hidden] { display: none; }` but bootstrap.min.css set `[hidden] { display: none !important; }` so we also need the `!important` here to be able to override the default hidden behavior on the sphinx rendered scikit-learn.org. See: https://github.com/scikit-learn/scikit-learn/issues/21755 */display: inline-block !important;position: relative;}#sk-container-id-1 div.sk-text-repr-fallback {display: none;}</style><div id=\"sk-container-id-1\" class=\"sk-top-container\"><div class=\"sk-text-repr-fallback\"><pre>LogisticRegression(multi_class=&#x27;multinomial&#x27;, random_state=0)</pre><b>In a Jupyter environment, please rerun this cell to show the HTML representation or trust the notebook. <br />On GitHub, the HTML representation is unable to render, please try loading this page with nbviewer.org.</b></div><div class=\"sk-container\" hidden><div class=\"sk-item\"><div class=\"sk-estimator sk-toggleable\"><input class=\"sk-toggleable__control sk-hidden--visually\" id=\"sk-estimator-id-1\" type=\"checkbox\" checked><label for=\"sk-estimator-id-1\" class=\"sk-toggleable__label sk-toggleable__label-arrow\">LogisticRegression</label><div class=\"sk-toggleable__content\"><pre>LogisticRegression(multi_class=&#x27;multinomial&#x27;, random_state=0)</pre></div></div></div></div></div>"
            ]
          },
          "metadata": {},
          "execution_count": 37
        }
      ]
    },
    {
      "cell_type": "markdown",
      "source": [
        "TESTING THE MODEL"
      ],
      "metadata": {
        "id": "GvZL9eDdJZKq"
      }
    },
    {
      "cell_type": "code",
      "source": [
        "dt=np.array(['threadmill0909#'])\n",
        "pred=vectorizer.transform(dt)\n",
        "clf.predict(pred)"
      ],
      "metadata": {
        "colab": {
          "base_uri": "https://localhost:8080/"
        },
        "id": "FqhP7tdGJQzg",
        "outputId": "a9f93234-0df9-422a-c664-ba0579fdc3a3"
      },
      "execution_count": 39,
      "outputs": [
        {
          "output_type": "execute_result",
          "data": {
            "text/plain": [
              "array([1])"
            ]
          },
          "metadata": {},
          "execution_count": 39
        }
      ]
    },
    {
      "cell_type": "code",
      "source": [
        "y_pred=clf.predict(x_test)\n",
        "y_pred"
      ],
      "metadata": {
        "colab": {
          "base_uri": "https://localhost:8080/"
        },
        "id": "PkHJEiQDJtAU",
        "outputId": "b9dc3a87-7f45-4a65-db6d-babb5c079928"
      },
      "execution_count": 41,
      "outputs": [
        {
          "output_type": "execute_result",
          "data": {
            "text/plain": [
              "array([1, 2, 1, ..., 1, 1, 1])"
            ]
          },
          "metadata": {},
          "execution_count": 41
        }
      ]
    },
    {
      "cell_type": "code",
      "source": [
        "from sklearn.metrics import confusion_matrix,accuracy_score"
      ],
      "metadata": {
        "id": "poexgxkPJ0Au"
      },
      "execution_count": 42,
      "outputs": []
    },
    {
      "cell_type": "code",
      "source": [
        "cm=confusion_matrix(y_test,y_pred)\n",
        "print(cm)"
      ],
      "metadata": {
        "colab": {
          "base_uri": "https://localhost:8080/"
        },
        "id": "8sTtmnEiKFql",
        "outputId": "7c5ec84a-b267-4271-9eda-196cc11ba582"
      },
      "execution_count": 43,
      "outputs": [
        {
          "output_type": "stream",
          "name": "stdout",
          "text": [
            "[[ 5237 12535    18]\n",
            " [ 3692 93350  2507]\n",
            " [   32  5164 11393]]\n"
          ]
        }
      ]
    },
    {
      "cell_type": "code",
      "source": [
        "print(accuracy_score(y_test,y_pred))"
      ],
      "metadata": {
        "colab": {
          "base_uri": "https://localhost:8080/"
        },
        "id": "_Ch5Amy-KNLM",
        "outputId": "22a4cfa4-77dc-4c96-b3ee-d908656772b3"
      },
      "execution_count": 44,
      "outputs": [
        {
          "output_type": "stream",
          "name": "stdout",
          "text": [
            "0.8211875037333493\n"
          ]
        }
      ]
    },
    {
      "cell_type": "code",
      "source": [
        "#classification report \n",
        "from sklearn.metrics import classification_report\n",
        "print(classification_report(y_test,y_pred))"
      ],
      "metadata": {
        "colab": {
          "base_uri": "https://localhost:8080/"
        },
        "id": "GieBeWfqKXYN",
        "outputId": "c2f1ad30-d0f0-4c0e-a61e-cc0b75f2a011"
      },
      "execution_count": 47,
      "outputs": [
        {
          "output_type": "stream",
          "name": "stdout",
          "text": [
            "              precision    recall  f1-score   support\n",
            "\n",
            "           0       0.58      0.29      0.39     17790\n",
            "           1       0.84      0.94      0.89     99549\n",
            "           2       0.82      0.69      0.75     16589\n",
            "\n",
            "    accuracy                           0.82    133928\n",
            "   macro avg       0.75      0.64      0.67    133928\n",
            "weighted avg       0.80      0.82      0.80    133928\n",
            "\n"
          ]
        }
      ]
    },
    {
      "cell_type": "code",
      "source": [],
      "metadata": {
        "id": "ikeEkikuKwSJ"
      },
      "execution_count": null,
      "outputs": []
    }
  ]
}